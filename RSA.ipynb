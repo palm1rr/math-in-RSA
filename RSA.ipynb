{
  "nbformat": 4,
  "nbformat_minor": 0,
  "metadata": {
    "colab": {
      "name": "RSA.ipynb",
      "provenance": []
    },
    "kernelspec": {
      "name": "python3",
      "display_name": "Python 3"
    },
    "language_info": {
      "name": "python"
    }
  },
  "cells": [
    {
      "cell_type": "code",
      "source": [
        "a = 111 ** 13  # Пусть W^e = a\n",
        "for c in range(1, 10000):\n",
        "    if (c - a) % 2021 == 0:  # - проверка mod(n)\n",
        "        print(\"c = \", c)\n",
        "        break"
      ],
      "metadata": {
        "colab": {
          "base_uri": "https://localhost:8080/"
        },
        "id": "OyfoYEOtWTv3",
        "outputId": "ec1f26f9-6e1a-44d0-d293-403aeca673cf"
      },
      "execution_count": 11,
      "outputs": [
        {
          "output_type": "stream",
          "name": "stdout",
          "text": [
            "c =  1734\n"
          ]
        }
      ]
    },
    {
      "cell_type": "code",
      "source": [
        "b = 1734 ** 1189  # Пусть c^d = b\n",
        "for w in range(1, 10000):\n",
        "    if (w - b) % 2021 == 0:  # - проверка mod(n)\n",
        "        print(\"w  = \", w)\n",
        "        break"
      ],
      "metadata": {
        "colab": {
          "base_uri": "https://localhost:8080/"
        },
        "id": "0-eM0_BQcCMV",
        "outputId": "b628bc66-1546-48f5-963d-a19def1bdbf8"
      },
      "execution_count": 12,
      "outputs": [
        {
          "output_type": "stream",
          "name": "stdout",
          "text": [
            "w  =  111\n"
          ]
        }
      ]
    },
    {
      "cell_type": "code",
      "source": [
        "for d in range(1, 10000):  # d - мультипликативно обратное число\n",
        "    k = (d * 13 - 1) / 1932  # k - интерпретация сравнения по модулю\n",
        "    if k % 1 == 0:  # проверка сравнения по модулю\n",
        "        print(d)\n",
        "        break    "
      ],
      "metadata": {
        "colab": {
          "base_uri": "https://localhost:8080/"
        },
        "id": "YG72p_hpDqfP",
        "outputId": "63d75f11-0686-40b0-b061-fbae6454448b"
      },
      "execution_count": 13,
      "outputs": [
        {
          "output_type": "stream",
          "name": "stdout",
          "text": [
            "1189\n"
          ]
        }
      ]
    }
  ]
}